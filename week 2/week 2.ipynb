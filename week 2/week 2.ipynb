{
 "cells": [
  {
   "attachments": {},
   "cell_type": "markdown",
   "metadata": {},
   "source": [
    "Aluno: Rychardson Ribeiro de Souza"
   ]
  },
  {
   "attachments": {},
   "cell_type": "markdown",
   "metadata": {},
   "source": [
    "Carregando arquivos .csv para execução em conjunto"
   ]
  },
  {
   "cell_type": "code",
   "execution_count": 7,
   "metadata": {},
   "outputs": [],
   "source": [
    "from csv import reader"
   ]
  },
  {
   "attachments": {},
   "cell_type": "markdown",
   "metadata": {},
   "source": [
    "Juntando os arquivos do dataquest"
   ]
  },
  {
   "cell_type": "code",
   "execution_count": 8,
   "metadata": {},
   "outputs": [],
   "source": [
    "class Dataset():\n",
    "    def __init__(self, arquivo_csv):\n",
    "        opened_file = open(arquivo_csv, encoding=\"utf8\")\n",
    "        read_file = reader(opened_file)\n",
    "        \n",
    "        dataset = list(read_file)\n",
    "        header = dataset[0]\n",
    "        dataset = dataset[1:]\n",
    "        \n",
    "        self.header = header\n",
    "        self.dataset = dataset\n",
    "\n",
    "    def explore_data(self,start, end, rows_and_columns=False):\n",
    "        dataset_slice = self.dataset[start:end]    \n",
    "        for row in dataset_slice:\n",
    "          print(row)\n",
    "          print('\\n') # adds a new (empty) line between rows\n",
    "\n",
    "        if rows_and_columns:\n",
    "          print('Number of rows:', len(self.dataset))\n",
    "          print('Number of columns:', len(self.dataset[0])) \n",
    "\n",
    "    def delete_line(self,line):\n",
    "        del self.dataset[line]\n",
    "    \n",
    "    def duplicate_items(self, p_header, duplicate=True):\n",
    "        duplicate_lines = []\n",
    "        unique_lines = []\n",
    "        for line in self.dataset:\n",
    "          item = line[p_header]\n",
    "          if item in unique_lines:\n",
    "            duplicate_lines.append(item)\n",
    "          else:\n",
    "            unique_lines.append(item)\n",
    "\n",
    "        print(\"Number of duplicate:\", (len(duplicate_lines) if duplicate else unique_lines))\n",
    "\n",
    "    def is_english(string):\n",
    "      non_ascii = 0\n",
    "\n",
    "      for character in string:\n",
    "          if ord(character) > 127:\n",
    "              non_ascii += 1\n",
    "      return False if  non_ascii > 3 else True\n",
    "\n",
    "    def no_english_items(self , parameter):\n",
    "        no_english_list = []\n",
    "        for line in self.dataset:\n",
    "          if Dataset.is_english(line[parameter]) == False:\n",
    "            no_english_list.append(line[parameter])\n",
    "        print(\"Number of no English Items: \", len(no_english_list))\n",
    "\n",
    "    def clean_no_english_items(self,parameter):\n",
    "        no_english_list = []\n",
    "        for line in self.dataset:\n",
    "          if Dataset.is_english(line[parameter]) == False:\n",
    "            Dataset.delete_line(self,self.dataset.index(line))\n",
    "        return self.dataset\n",
    "\n",
    "    def only_free(self, column):\n",
    "        dataset_free = []\n",
    "        for app in self.dataset:\n",
    "          price = app[column]\n",
    "          if price == '0' or price == '0.0':\n",
    "            dataset_free.append(app)\n",
    "        self.dataset = dataset_free\n",
    "\n",
    "    def freq_table(self, index):\n",
    "        table = {}\n",
    "        total = 0\n",
    "        for row in self.dataset:\n",
    "            total += 1\n",
    "            value = row[index]\n",
    "            if value in table:\n",
    "                table[value] += 1\n",
    "            else:\n",
    "                table[value] = 1\n",
    "        \n",
    "        table_percentages = {}\n",
    "        \n",
    "        for key in table:\n",
    "            percentage = (table[key] / total) * 100\n",
    "            table_percentages[key] = percentage \n",
    "    \n",
    "        return table_percentages\n",
    "\n",
    "\n",
    "    def display_table(self, index):\n",
    "        table = Dataset.freq_table(self, index)\n",
    "        table_display = []\n",
    "        for key in table:\n",
    "            key_val_as_tuple = (table[key], key)\n",
    "            table_display.append(key_val_as_tuple)\n",
    "        \n",
    "        table_sorted = sorted(table_display, reverse = True)\n",
    "        for entry in table_sorted:\n",
    "            print(entry[1], ':', entry[0])"
   ]
  },
  {
   "attachments": {},
   "cell_type": "markdown",
   "metadata": {},
   "source": [
    "# INSTÂNCIAS"
   ]
  },
  {
   "cell_type": "code",
   "execution_count": 9,
   "metadata": {},
   "outputs": [],
   "source": [
    "ios_apps_dataset = Dataset('googleplaystore.csv')\n",
    "android_apps_dataset = Dataset('AppleStore.csv')"
   ]
  },
  {
   "attachments": {},
   "cell_type": "markdown",
   "metadata": {},
   "source": [
    "Imprimindo o cabeçalho das planilhas"
   ]
  },
  {
   "cell_type": "code",
   "execution_count": 10,
   "metadata": {},
   "outputs": [
    {
     "name": "stdout",
     "output_type": "stream",
     "text": [
      "['id', 'track_name', 'size_bytes', 'currency', 'price', 'rating_count_tot', 'rating_count_ver', 'user_rating', 'user_rating_ver', 'ver', 'cont_rating', 'prime_genre', 'sup_devices.num', 'ipadSc_urls.num', 'lang.num', 'vpp_lic']\n",
      "['App', 'Category', 'Rating', 'Reviews', 'Size', 'Installs', 'Type', 'Price', 'Content Rating', 'Genres', 'Last Updated', 'Current Ver', 'Android Ver']\n"
     ]
    }
   ],
   "source": [
    "print(android_apps_dataset.header) \n",
    "print(ios_apps_dataset.header)"
   ]
  },
  {
   "cell_type": "code",
   "execution_count": 11,
   "metadata": {},
   "outputs": [
    {
     "name": "stdout",
     "output_type": "stream",
     "text": [
      "['284882215', 'Facebook', '389879808', 'USD', '0.0', '2974676', '212', '3.5', '3.5', '95.0', '4+', 'Social Networking', '37', '1', '29', '1']\n",
      "\n",
      "\n",
      "['389801252', 'Instagram', '113954816', 'USD', '0.0', '2161558', '1289', '4.5', '4.0', '10.23', '12+', 'Photo & Video', '37', '0', '29', '1']\n",
      "\n",
      "\n",
      "['529479190', 'Clash of Clans', '116476928', 'USD', '0.0', '2130805', '579', '4.5', '4.5', '9.24.12', '9+', 'Games', '38', '5', '18', '1']\n",
      "\n",
      "\n",
      "Number of rows: 7197\n",
      "Number of columns: 16\n"
     ]
    }
   ],
   "source": [
    "android_apps_dataset.explore_data(0, 3, True)"
   ]
  },
  {
   "cell_type": "markdown",
   "metadata": {},
   "source": []
  }
 ],
 "metadata": {
  "kernelspec": {
   "display_name": "Python 3",
   "language": "python",
   "name": "python3"
  },
  "language_info": {
   "codemirror_mode": {
    "name": "ipython",
    "version": 3
   },
   "file_extension": ".py",
   "mimetype": "text/x-python",
   "name": "python",
   "nbconvert_exporter": "python",
   "pygments_lexer": "ipython3",
   "version": "3.11.2"
  },
  "orig_nbformat": 4
 },
 "nbformat": 4,
 "nbformat_minor": 2
}
