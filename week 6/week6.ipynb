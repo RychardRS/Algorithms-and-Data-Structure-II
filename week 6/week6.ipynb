{
 "cells": [
  {
   "attachments": {},
   "cell_type": "markdown",
   "metadata": {},
   "source": [
    "<h1>Aluno: Rychardson Ribeiro de Souza"
   ]
  },
  {
   "attachments": {},
   "cell_type": "markdown",
   "metadata": {},
   "source": [
    "<h2>Disciplina: Algoritmos e Estruturas de Dados II"
   ]
  },
  {
   "cell_type": "code",
   "execution_count": 1,
   "metadata": {},
   "outputs": [
    {
     "name": "stdout",
     "output_type": "stream",
     "text": [
      "Requirement already satisfied: pytest in c:\\users\\rycha\\anaconda3\\lib\\site-packages (7.1.2)\n",
      "Requirement already satisfied: pytest-sugar in c:\\users\\rycha\\anaconda3\\lib\\site-packages (0.9.7)\n",
      "Requirement already satisfied: attrs>=19.2.0 in c:\\users\\rycha\\anaconda3\\lib\\site-packages (from pytest) (22.1.0)\n",
      "Requirement already satisfied: iniconfig in c:\\users\\rycha\\anaconda3\\lib\\site-packages (from pytest) (1.1.1)\n",
      "Requirement already satisfied: packaging in c:\\users\\rycha\\anaconda3\\lib\\site-packages (from pytest) (22.0)\n",
      "Requirement already satisfied: pluggy<2.0,>=0.12 in c:\\users\\rycha\\anaconda3\\lib\\site-packages (from pytest) (1.0.0)\n",
      "Requirement already satisfied: py>=1.8.2 in c:\\users\\rycha\\anaconda3\\lib\\site-packages (from pytest) (1.11.0)\n",
      "Requirement already satisfied: tomli>=1.0.0 in c:\\users\\rycha\\anaconda3\\lib\\site-packages (from pytest) (2.0.1)\n",
      "Requirement already satisfied: atomicwrites>=1.0 in c:\\users\\rycha\\anaconda3\\lib\\site-packages (from pytest) (1.4.0)\n",
      "Requirement already satisfied: colorama in c:\\users\\rycha\\anaconda3\\lib\\site-packages (from pytest) (0.4.6)\n",
      "Requirement already satisfied: termcolor>=2.1.0 in c:\\users\\rycha\\anaconda3\\lib\\site-packages (from pytest-sugar) (2.2.0)\n"
     ]
    }
   ],
   "source": [
    "# install dependencies\n",
    "!pip install pytest pytest-sugar"
   ]
  },
  {
   "attachments": {},
   "cell_type": "markdown",
   "metadata": {},
   "source": [
    "<h3>Classes Definitions</h3>"
   ]
  },
  {
   "cell_type": "code",
   "execution_count": 2,
   "metadata": {},
   "outputs": [
    {
     "name": "stdout",
     "output_type": "stream",
     "text": [
      "Overwriting binarysearchtree.py\n"
     ]
    }
   ],
   "source": [
    "%%file binarysearchtree.py\n",
    "import plotly.graph_objs as go\n",
    "\n",
    "class Node:\n",
    "    \"\"\"\n",
    "    A class representing a node in a binary search tree.\n",
    "\n",
    "    Attributes:\n",
    "    - value: the value of the node\n",
    "    - left_child: the left child of the node\n",
    "    - right_child: the right child of the node\n",
    "    \"\"\"\n",
    "\n",
    "    def __init__(self, value):\n",
    "        \"\"\"\n",
    "        Initializes a new instance of the Node class.\n",
    "\n",
    "        Args:\n",
    "        - value: the value of the node\n",
    "        \"\"\"\n",
    "        self.value = value\n",
    "        self.left_child = None\n",
    "        self.right_child = None\n",
    "\n",
    "\n",
    "class BST:\n",
    "    \"\"\"\n",
    "    A class representing a binary search tree.\n",
    "\n",
    "    Attributes:\n",
    "    - root: the root node of the tree\n",
    "    \"\"\"\n",
    "\n",
    "    def __init__(self):\n",
    "        \"\"\"\n",
    "        Initializes a new instance of the BST class.\n",
    "        \"\"\"\n",
    "        self.root = None\n",
    "\n",
    "    def add(self, value):\n",
    "        \"\"\"\n",
    "        Adds a new node with the given value to the tree.\n",
    "\n",
    "        Args:\n",
    "        - value: the value of the node to add\n",
    "        \"\"\"\n",
    "        if self.root is None:\n",
    "            # The root does exist yet, create it\n",
    "            self.root = Node(value)\n",
    "        else:\n",
    "            # Find the right place and insert new value\n",
    "            self._add_recursive(self.root, value)\n",
    "\n",
    "    def _add_recursive(self, current_node, value):\n",
    "        \"\"\"\n",
    "        A helper method to recursively traverse the tree and find the correct position to add the new node.\n",
    "\n",
    "        Args:\n",
    "        - current_node: the current node to traverse\n",
    "        - value: the value of the node to add\n",
    "        \"\"\"\n",
    "        if value <= current_node.value:\n",
    "            # Go to the left\n",
    "            if current_node.left_child is None:\n",
    "                current_node.left_child = Node(value)\n",
    "            else:\n",
    "                self._add_recursive(current_node.left_child, value)\n",
    "        else:\n",
    "            # Go to the right\n",
    "            if current_node.right_child is None:\n",
    "                current_node.right_child = Node(value)\n",
    "            else:\n",
    "                self._add_recursive(current_node.right_child, value)\n",
    "\n",
    "    def _contains(self, current_node, value):\n",
    "        \"\"\"\n",
    "        A helper method to recursively traverse the tree and find the node with the given value.\n",
    "\n",
    "        Args:\n",
    "        - current_node: the current node to traverse\n",
    "        - value: the value to search for\n",
    "\n",
    "        Returns:\n",
    "        - True if a node with the given value is found, False otherwise\n",
    "        \"\"\"\n",
    "        if current_node is None:\n",
    "            return False\n",
    "        if current_node.value == value:\n",
    "            return True\n",
    "        if value < current_node.value:\n",
    "            return self._contains(current_node.left_child, value)\n",
    "        return self._contains(current_node.right_child, value)\n",
    "\n",
    "    def contains(self, value):\n",
    "        \"\"\"\n",
    "        Checks whether a node with the given value is present in the tree.\n",
    "\n",
    "        Args:\n",
    "        - value: the value to search for\n",
    "\n",
    "        Returns:\n",
    "        - True if a node with the given value is found, False otherwise\n",
    "        \"\"\"\n",
    "        return self._contains(self.root, value)\n",
    "\n",
    "    def plot(self):\n",
    "        \"\"\"\n",
    "        Plots the binary search tree using Plotly.\n",
    "        \"\"\"\n",
    "        if self.root is None:\n",
    "            print(\"The tree is empty!\")\n",
    "            return\n",
    "\n",
    "        # Initialize lists for coordinates and connections\n",
    "        node_coords = []\n",
    "        lines = []\n",
    "\n",
    "        # Helper function to traverse the tree and fill the coordinate and connection lists\n",
    "        def _plot_recursive(node, x, y, offset):\n",
    "            if node is not None:\n",
    "                node_coords.append((x, y, node.value))\n",
    "                if node.left_child is not None:\n",
    "                    new_x = x - offset\n",
    "                    new_y = y - 1\n",
    "                    lines.append((x, y, new_x, new_y))\n",
    "                    _plot_recursive(node.left_child, new_x, new_y, offset / 2)\n",
    "                if node.right_child is not None:\n",
    "                    new_x = x + offset\n",
    "                    new_y = y - 1\n",
    "                    lines.append((x, y, new_x, new_y))\n",
    "                    _plot_recursive(node.right_child, new_x, new_y, offset / 2)\n",
    "\n",
    "        # Traverse the tree starting from the root node\n",
    "        _plot_recursive(self.root, x=0, y=0, offset=0.5)\n",
    "\n",
    "        # Create a scatter plot for the nodes\n",
    "        node_trace = go.Scatter(x=[x for x, y, _ in node_coords],\n",
    "                                y=[y for _, y, _ in node_coords],\n",
    "                                text=[str(val) for _, _, val in node_coords],\n",
    "                                mode='markers+text',\n",
    "                                textposition='top center',\n",
    "                                marker=dict(symbol='circle',\n",
    "                                            size=20,\n",
    "                                            color='darkblue'))\n",
    "\n",
    "        # Create a scatter plot for the connections between nodes\n",
    "        line_trace = go.Scatter(x=sum([[x1, x2, None] for x1, y1, x2, y2 in lines], []),\n",
    "                                y=sum([[y1, y2, None] for x1, y1, x2, y2 in lines], []),\n",
    "                                mode='lines',\n",
    "                                line=dict(color='black'))\n",
    "\n",
    "        # Combine the two scatter plots\n",
    "        layout = go.Layout(title='',\n",
    "                           xaxis=dict(title='', showgrid=False, zeroline=False, showticklabels=False),\n",
    "                           yaxis=dict(title='', showgrid=False, zeroline=False, showticklabels=False),\n",
    "                           showlegend=False)\n",
    "\n",
    "        fig = go.Figure(data=[node_trace, line_trace], layout=layout)\n",
    "        fig.show()\n",
    "     "
   ]
  },
  {
   "cell_type": "code",
   "execution_count": 3,
   "metadata": {},
   "outputs": [
    {
     "data": {
      "application/vnd.plotly.v1+json": {
       "config": {
        "plotlyServerURL": "https://plot.ly"
       },
       "data": [
        {
         "marker": {
          "color": "darkblue",
          "size": 20,
          "symbol": "circle"
         },
         "mode": "markers+text",
         "text": [
          "5",
          "3",
          "1",
          "0",
          "2",
          "4",
          "7",
          "6",
          "8"
         ],
         "textposition": "top center",
         "type": "scatter",
         "x": [
          0,
          -0.5,
          -0.75,
          -0.875,
          -0.625,
          -0.25,
          0.5,
          0.25,
          0.75
         ],
         "y": [
          0,
          -1,
          -2,
          -3,
          -3,
          -2,
          -1,
          -2,
          -2
         ]
        },
        {
         "line": {
          "color": "black"
         },
         "mode": "lines",
         "type": "scatter",
         "x": [
          0,
          -0.5,
          null,
          -0.5,
          -0.75,
          null,
          -0.75,
          -0.875,
          null,
          -0.75,
          -0.625,
          null,
          -0.5,
          -0.25,
          null,
          0,
          0.5,
          null,
          0.5,
          0.25,
          null,
          0.5,
          0.75,
          null
         ],
         "y": [
          0,
          -1,
          null,
          -1,
          -2,
          null,
          -2,
          -3,
          null,
          -2,
          -3,
          null,
          -1,
          -2,
          null,
          0,
          -1,
          null,
          -1,
          -2,
          null,
          -1,
          -2,
          null
         ]
        }
       ],
       "layout": {
        "showlegend": false,
        "template": {
         "data": {
          "bar": [
           {
            "error_x": {
             "color": "#2a3f5f"
            },
            "error_y": {
             "color": "#2a3f5f"
            },
            "marker": {
             "line": {
              "color": "#E5ECF6",
              "width": 0.5
             },
             "pattern": {
              "fillmode": "overlay",
              "size": 10,
              "solidity": 0.2
             }
            },
            "type": "bar"
           }
          ],
          "barpolar": [
           {
            "marker": {
             "line": {
              "color": "#E5ECF6",
              "width": 0.5
             },
             "pattern": {
              "fillmode": "overlay",
              "size": 10,
              "solidity": 0.2
             }
            },
            "type": "barpolar"
           }
          ],
          "carpet": [
           {
            "aaxis": {
             "endlinecolor": "#2a3f5f",
             "gridcolor": "white",
             "linecolor": "white",
             "minorgridcolor": "white",
             "startlinecolor": "#2a3f5f"
            },
            "baxis": {
             "endlinecolor": "#2a3f5f",
             "gridcolor": "white",
             "linecolor": "white",
             "minorgridcolor": "white",
             "startlinecolor": "#2a3f5f"
            },
            "type": "carpet"
           }
          ],
          "choropleth": [
           {
            "colorbar": {
             "outlinewidth": 0,
             "ticks": ""
            },
            "type": "choropleth"
           }
          ],
          "contour": [
           {
            "colorbar": {
             "outlinewidth": 0,
             "ticks": ""
            },
            "colorscale": [
             [
              0,
              "#0d0887"
             ],
             [
              0.1111111111111111,
              "#46039f"
             ],
             [
              0.2222222222222222,
              "#7201a8"
             ],
             [
              0.3333333333333333,
              "#9c179e"
             ],
             [
              0.4444444444444444,
              "#bd3786"
             ],
             [
              0.5555555555555556,
              "#d8576b"
             ],
             [
              0.6666666666666666,
              "#ed7953"
             ],
             [
              0.7777777777777778,
              "#fb9f3a"
             ],
             [
              0.8888888888888888,
              "#fdca26"
             ],
             [
              1,
              "#f0f921"
             ]
            ],
            "type": "contour"
           }
          ],
          "contourcarpet": [
           {
            "colorbar": {
             "outlinewidth": 0,
             "ticks": ""
            },
            "type": "contourcarpet"
           }
          ],
          "heatmap": [
           {
            "colorbar": {
             "outlinewidth": 0,
             "ticks": ""
            },
            "colorscale": [
             [
              0,
              "#0d0887"
             ],
             [
              0.1111111111111111,
              "#46039f"
             ],
             [
              0.2222222222222222,
              "#7201a8"
             ],
             [
              0.3333333333333333,
              "#9c179e"
             ],
             [
              0.4444444444444444,
              "#bd3786"
             ],
             [
              0.5555555555555556,
              "#d8576b"
             ],
             [
              0.6666666666666666,
              "#ed7953"
             ],
             [
              0.7777777777777778,
              "#fb9f3a"
             ],
             [
              0.8888888888888888,
              "#fdca26"
             ],
             [
              1,
              "#f0f921"
             ]
            ],
            "type": "heatmap"
           }
          ],
          "heatmapgl": [
           {
            "colorbar": {
             "outlinewidth": 0,
             "ticks": ""
            },
            "colorscale": [
             [
              0,
              "#0d0887"
             ],
             [
              0.1111111111111111,
              "#46039f"
             ],
             [
              0.2222222222222222,
              "#7201a8"
             ],
             [
              0.3333333333333333,
              "#9c179e"
             ],
             [
              0.4444444444444444,
              "#bd3786"
             ],
             [
              0.5555555555555556,
              "#d8576b"
             ],
             [
              0.6666666666666666,
              "#ed7953"
             ],
             [
              0.7777777777777778,
              "#fb9f3a"
             ],
             [
              0.8888888888888888,
              "#fdca26"
             ],
             [
              1,
              "#f0f921"
             ]
            ],
            "type": "heatmapgl"
           }
          ],
          "histogram": [
           {
            "marker": {
             "pattern": {
              "fillmode": "overlay",
              "size": 10,
              "solidity": 0.2
             }
            },
            "type": "histogram"
           }
          ],
          "histogram2d": [
           {
            "colorbar": {
             "outlinewidth": 0,
             "ticks": ""
            },
            "colorscale": [
             [
              0,
              "#0d0887"
             ],
             [
              0.1111111111111111,
              "#46039f"
             ],
             [
              0.2222222222222222,
              "#7201a8"
             ],
             [
              0.3333333333333333,
              "#9c179e"
             ],
             [
              0.4444444444444444,
              "#bd3786"
             ],
             [
              0.5555555555555556,
              "#d8576b"
             ],
             [
              0.6666666666666666,
              "#ed7953"
             ],
             [
              0.7777777777777778,
              "#fb9f3a"
             ],
             [
              0.8888888888888888,
              "#fdca26"
             ],
             [
              1,
              "#f0f921"
             ]
            ],
            "type": "histogram2d"
           }
          ],
          "histogram2dcontour": [
           {
            "colorbar": {
             "outlinewidth": 0,
             "ticks": ""
            },
            "colorscale": [
             [
              0,
              "#0d0887"
             ],
             [
              0.1111111111111111,
              "#46039f"
             ],
             [
              0.2222222222222222,
              "#7201a8"
             ],
             [
              0.3333333333333333,
              "#9c179e"
             ],
             [
              0.4444444444444444,
              "#bd3786"
             ],
             [
              0.5555555555555556,
              "#d8576b"
             ],
             [
              0.6666666666666666,
              "#ed7953"
             ],
             [
              0.7777777777777778,
              "#fb9f3a"
             ],
             [
              0.8888888888888888,
              "#fdca26"
             ],
             [
              1,
              "#f0f921"
             ]
            ],
            "type": "histogram2dcontour"
           }
          ],
          "mesh3d": [
           {
            "colorbar": {
             "outlinewidth": 0,
             "ticks": ""
            },
            "type": "mesh3d"
           }
          ],
          "parcoords": [
           {
            "line": {
             "colorbar": {
              "outlinewidth": 0,
              "ticks": ""
             }
            },
            "type": "parcoords"
           }
          ],
          "pie": [
           {
            "automargin": true,
            "type": "pie"
           }
          ],
          "scatter": [
           {
            "fillpattern": {
             "fillmode": "overlay",
             "size": 10,
             "solidity": 0.2
            },
            "type": "scatter"
           }
          ],
          "scatter3d": [
           {
            "line": {
             "colorbar": {
              "outlinewidth": 0,
              "ticks": ""
             }
            },
            "marker": {
             "colorbar": {
              "outlinewidth": 0,
              "ticks": ""
             }
            },
            "type": "scatter3d"
           }
          ],
          "scattercarpet": [
           {
            "marker": {
             "colorbar": {
              "outlinewidth": 0,
              "ticks": ""
             }
            },
            "type": "scattercarpet"
           }
          ],
          "scattergeo": [
           {
            "marker": {
             "colorbar": {
              "outlinewidth": 0,
              "ticks": ""
             }
            },
            "type": "scattergeo"
           }
          ],
          "scattergl": [
           {
            "marker": {
             "colorbar": {
              "outlinewidth": 0,
              "ticks": ""
             }
            },
            "type": "scattergl"
           }
          ],
          "scattermapbox": [
           {
            "marker": {
             "colorbar": {
              "outlinewidth": 0,
              "ticks": ""
             }
            },
            "type": "scattermapbox"
           }
          ],
          "scatterpolar": [
           {
            "marker": {
             "colorbar": {
              "outlinewidth": 0,
              "ticks": ""
             }
            },
            "type": "scatterpolar"
           }
          ],
          "scatterpolargl": [
           {
            "marker": {
             "colorbar": {
              "outlinewidth": 0,
              "ticks": ""
             }
            },
            "type": "scatterpolargl"
           }
          ],
          "scatterternary": [
           {
            "marker": {
             "colorbar": {
              "outlinewidth": 0,
              "ticks": ""
             }
            },
            "type": "scatterternary"
           }
          ],
          "surface": [
           {
            "colorbar": {
             "outlinewidth": 0,
             "ticks": ""
            },
            "colorscale": [
             [
              0,
              "#0d0887"
             ],
             [
              0.1111111111111111,
              "#46039f"
             ],
             [
              0.2222222222222222,
              "#7201a8"
             ],
             [
              0.3333333333333333,
              "#9c179e"
             ],
             [
              0.4444444444444444,
              "#bd3786"
             ],
             [
              0.5555555555555556,
              "#d8576b"
             ],
             [
              0.6666666666666666,
              "#ed7953"
             ],
             [
              0.7777777777777778,
              "#fb9f3a"
             ],
             [
              0.8888888888888888,
              "#fdca26"
             ],
             [
              1,
              "#f0f921"
             ]
            ],
            "type": "surface"
           }
          ],
          "table": [
           {
            "cells": {
             "fill": {
              "color": "#EBF0F8"
             },
             "line": {
              "color": "white"
             }
            },
            "header": {
             "fill": {
              "color": "#C8D4E3"
             },
             "line": {
              "color": "white"
             }
            },
            "type": "table"
           }
          ]
         },
         "layout": {
          "annotationdefaults": {
           "arrowcolor": "#2a3f5f",
           "arrowhead": 0,
           "arrowwidth": 1
          },
          "autotypenumbers": "strict",
          "coloraxis": {
           "colorbar": {
            "outlinewidth": 0,
            "ticks": ""
           }
          },
          "colorscale": {
           "diverging": [
            [
             0,
             "#8e0152"
            ],
            [
             0.1,
             "#c51b7d"
            ],
            [
             0.2,
             "#de77ae"
            ],
            [
             0.3,
             "#f1b6da"
            ],
            [
             0.4,
             "#fde0ef"
            ],
            [
             0.5,
             "#f7f7f7"
            ],
            [
             0.6,
             "#e6f5d0"
            ],
            [
             0.7,
             "#b8e186"
            ],
            [
             0.8,
             "#7fbc41"
            ],
            [
             0.9,
             "#4d9221"
            ],
            [
             1,
             "#276419"
            ]
           ],
           "sequential": [
            [
             0,
             "#0d0887"
            ],
            [
             0.1111111111111111,
             "#46039f"
            ],
            [
             0.2222222222222222,
             "#7201a8"
            ],
            [
             0.3333333333333333,
             "#9c179e"
            ],
            [
             0.4444444444444444,
             "#bd3786"
            ],
            [
             0.5555555555555556,
             "#d8576b"
            ],
            [
             0.6666666666666666,
             "#ed7953"
            ],
            [
             0.7777777777777778,
             "#fb9f3a"
            ],
            [
             0.8888888888888888,
             "#fdca26"
            ],
            [
             1,
             "#f0f921"
            ]
           ],
           "sequentialminus": [
            [
             0,
             "#0d0887"
            ],
            [
             0.1111111111111111,
             "#46039f"
            ],
            [
             0.2222222222222222,
             "#7201a8"
            ],
            [
             0.3333333333333333,
             "#9c179e"
            ],
            [
             0.4444444444444444,
             "#bd3786"
            ],
            [
             0.5555555555555556,
             "#d8576b"
            ],
            [
             0.6666666666666666,
             "#ed7953"
            ],
            [
             0.7777777777777778,
             "#fb9f3a"
            ],
            [
             0.8888888888888888,
             "#fdca26"
            ],
            [
             1,
             "#f0f921"
            ]
           ]
          },
          "colorway": [
           "#636efa",
           "#EF553B",
           "#00cc96",
           "#ab63fa",
           "#FFA15A",
           "#19d3f3",
           "#FF6692",
           "#B6E880",
           "#FF97FF",
           "#FECB52"
          ],
          "font": {
           "color": "#2a3f5f"
          },
          "geo": {
           "bgcolor": "white",
           "lakecolor": "white",
           "landcolor": "#E5ECF6",
           "showlakes": true,
           "showland": true,
           "subunitcolor": "white"
          },
          "hoverlabel": {
           "align": "left"
          },
          "hovermode": "closest",
          "mapbox": {
           "style": "light"
          },
          "paper_bgcolor": "white",
          "plot_bgcolor": "#E5ECF6",
          "polar": {
           "angularaxis": {
            "gridcolor": "white",
            "linecolor": "white",
            "ticks": ""
           },
           "bgcolor": "#E5ECF6",
           "radialaxis": {
            "gridcolor": "white",
            "linecolor": "white",
            "ticks": ""
           }
          },
          "scene": {
           "xaxis": {
            "backgroundcolor": "#E5ECF6",
            "gridcolor": "white",
            "gridwidth": 2,
            "linecolor": "white",
            "showbackground": true,
            "ticks": "",
            "zerolinecolor": "white"
           },
           "yaxis": {
            "backgroundcolor": "#E5ECF6",
            "gridcolor": "white",
            "gridwidth": 2,
            "linecolor": "white",
            "showbackground": true,
            "ticks": "",
            "zerolinecolor": "white"
           },
           "zaxis": {
            "backgroundcolor": "#E5ECF6",
            "gridcolor": "white",
            "gridwidth": 2,
            "linecolor": "white",
            "showbackground": true,
            "ticks": "",
            "zerolinecolor": "white"
           }
          },
          "shapedefaults": {
           "line": {
            "color": "#2a3f5f"
           }
          },
          "ternary": {
           "aaxis": {
            "gridcolor": "white",
            "linecolor": "white",
            "ticks": ""
           },
           "baxis": {
            "gridcolor": "white",
            "linecolor": "white",
            "ticks": ""
           },
           "bgcolor": "#E5ECF6",
           "caxis": {
            "gridcolor": "white",
            "linecolor": "white",
            "ticks": ""
           }
          },
          "title": {
           "x": 0.05
          },
          "xaxis": {
           "automargin": true,
           "gridcolor": "white",
           "linecolor": "white",
           "ticks": "",
           "title": {
            "standoff": 15
           },
           "zerolinecolor": "white",
           "zerolinewidth": 2
          },
          "yaxis": {
           "automargin": true,
           "gridcolor": "white",
           "linecolor": "white",
           "ticks": "",
           "title": {
            "standoff": 15
           },
           "zerolinecolor": "white",
           "zerolinewidth": 2
          }
         }
        },
        "title": {
         "text": ""
        },
        "xaxis": {
         "showgrid": false,
         "showticklabels": false,
         "title": {
          "text": ""
         },
         "zeroline": false
        },
        "yaxis": {
         "showgrid": false,
         "showticklabels": false,
         "title": {
          "text": ""
         },
         "zeroline": false
        }
       }
      }
     },
     "metadata": {},
     "output_type": "display_data"
    }
   ],
   "source": [
    "# Example usage:\n",
    "from binarysearchtree import *\n",
    "bst = BST()\n",
    "for value in [5, 3, 1, 0, 2, 4, 7, 6, 8]:\n",
    "    bst.add(value)\n",
    "bst.plot()"
   ]
  },
  {
   "cell_type": "code",
   "execution_count": 4,
   "metadata": {},
   "outputs": [
    {
     "name": "stdout",
     "output_type": "stream",
     "text": [
      "Overwriting validatethreenodes.py\n"
     ]
    }
   ],
   "source": [
    "%%file validatethreenodes.py\n",
    "import pytest\n",
    "from binarysearchtree import *\n",
    "\n",
    "\n",
    "def validateThreeNodes(bst, valueOne, valueTwo, valueThree):\n",
    "    \"\"\"\n",
    "    Checks if the given three nodes have the required relationship in the Binary Search Tree.\n",
    "    \n",
    "    This function validates if either nodeTwo is a descendant of nodeOne and nodeThree is a descendant\n",
    "    of nodeTwo, or if nodeOne is a descendant of nodeTwo and nodeThree is an ascendant of nodeTwo.\n",
    "\n",
    "    Parameters:\n",
    "    bst (BST): The Binary Search Tree containing the nodes.\n",
    "    valueOne (int): The value of the first node.\n",
    "    valueTwo (int): The value of the second node.\n",
    "    valueThree (int): The value of the third node.\n",
    "\n",
    "    Returns:\n",
    "    bool: True if the given nodes have the required relationship, False otherwise.\n",
    "    \"\"\"     \n",
    "    if valueOne > valueTwo and valueTwo > valueThree:\n",
    "        return True\n",
    "    if valueThree > valueTwo and valueTwo > valueOne:\n",
    "        return True  \n",
    "\n",
    "    nodeOne = bst.root # get the root\n",
    "    while nodeOne is not None:\n",
    "        if valueOne == nodeOne.value:\n",
    "            break\n",
    "        elif valueOne < nodeOne.value:\n",
    "            nodeOne = nodeOne.left_child\n",
    "        else:\n",
    "            nodeOne = nodeOne.right_child\n",
    "\n",
    "    # Find nodeTwo and check if it's a descendant of nodeOne\n",
    "    nodeTwo = bst.root\n",
    "    while nodeTwo is not None:\n",
    "        if valueTwo == nodeTwo.value:\n",
    "            break\n",
    "        elif valueTwo < nodeTwo.value:\n",
    "            nodeTwo = nodeTwo.left_child\n",
    "        else:\n",
    "            nodeTwo = nodeTwo.right_child\n",
    "    isDescendantOneTwo = False\n",
    "    current = nodeOne\n",
    "    while current is not None:\n",
    "        if current == nodeTwo:\n",
    "            isDescendantOneTwo = True\n",
    "            break\n",
    "        elif valueTwo < current.value:\n",
    "            current = current.left_child\n",
    "        else:\n",
    "            current = current.right_child\n",
    "\n",
    "    # Find nodeThree and check if it's a descendant of nodeTwo or an ancestor of nodeTwo\n",
    "    nodeThree = bst.root\n",
    "    while nodeThree is not None:\n",
    "        if valueThree == nodeThree.value:\n",
    "            break\n",
    "        elif valueThree < nodeThree.value:\n",
    "            nodeThree = nodeThree.left_child\n",
    "        else:\n",
    "            nodeThree = nodeThree.right_child\n",
    "    isDescendantTwoThree = False\n",
    "    current = nodeTwo\n",
    "    while current is not None:\n",
    "        if current == nodeThree:\n",
    "            isDescendantTwoThree = True\n",
    "            break\n",
    "        elif valueThree < current.value:\n",
    "            current = current.left_child\n",
    "        else:\n",
    "            current = current.right_child\n",
    "    isAncestorTwoThree = False\n",
    "    current = nodeTwo\n",
    "    while current is not None:\n",
    "        if current == nodeThree:\n",
    "            isAncestorTwoThree = True\n",
    "            break\n",
    "        elif valueThree < current.value:\n",
    "            current = current.left_child\n",
    "        else:\n",
    "            current = current.right_child\n",
    "\n",
    "    # Return the result\n",
    "    if isDescendantOneTwo and isDescendantTwoThree:\n",
    "        return True\n",
    "    elif isDescendantTwoThree and isAncestorTwoThree:\n",
    "        return True\n",
    "    else:\n",
    "        return False\n",
    "\n",
    "\n",
    "\n",
    "@pytest.fixture(scope=\"session\")\n",
    "def data():\n",
    "    \n",
    "    array = [[5, 2, 1, 0, 4, 3, 7, 6, 8],\n",
    "             [5, 3, 2, 1, 0, 4, 7, 6, 8],\n",
    "             [5, 3, 2, 1, 0, 4, 7, 6, 8],\n",
    "             [2, 1, 3, 4, 5, 6, 7, 8, 9],\n",
    "             [6, 4, 3, 1, 2, 8, 7, 9],\n",
    "             [2, 1, 3, 4],\n",
    "             [8, 4, 3, 2, 1, 10, 9, 14, 12, 11, 6, 7, 13],\n",
    "             [8, 7, 6, 5, 4, 3, 2, 1, 9],\n",
    "             [3, 2, 1],\n",
    "             [3, 2, 1],\n",
    "             [6, 4, 2, 1, 3, 5, 8, 7, 9],\n",
    "             [10, 6, 5, 3, 1, 2, 4, 8, 7, 9, 15, 14, 13, 11, 12, 18, 17, 16],\n",
    "             [10, 6, 5, 3, 1, 2, 4, 8, 7, 9, 15, 14, 13, 11, 12, 18, 17, 16],\n",
    "             [5, 3, 1, 0, 2, 4, 7, 6, 8],\n",
    "             [5, 3, 1, 0, 2, 4, 7, 6, 8]]\n",
    "    return array\n",
    "\n",
    "def test_1(data):\n",
    "    \"\"\"\n",
    "    Test evaluation for \"nodeOne\": \"5\",\"nodeThree\": \"3\",\"nodeTwo\": \"2\"\n",
    "    \"\"\"\n",
    "    bst = BST()\n",
    "    for value in data[0]:\n",
    "      bst.add(value)\n",
    "    assert validateThreeNodes(bst,5,2,3) == True\n",
    "\n",
    "def test_2(data):\n",
    "    \"\"\"\n",
    "    Test evaluation for \"nodeOne\": \"5\", \"nodeThree\": \"1\", \"nodeTwo\": \"8\",\n",
    "    \"\"\"\n",
    "    bst = BST()\n",
    "    for value in data[1]:\n",
    "      bst.add(value)\n",
    "    assert validateThreeNodes(bst,5,8,1) == False\n",
    "\n",
    "def test_3(data):\n",
    "    \"\"\"\n",
    "    Test evaluation for   \"nodeOne\": \"8\",\"nodeThree\": \"2\",\"nodeTwo\": \"5\",\n",
    "    \"\"\"\n",
    "    bst = BST()\n",
    "    for value in data[2]:\n",
    "      bst.add(value)\n",
    "    assert validateThreeNodes(bst,8,5,2) == False\n",
    "\n",
    "def test_4(data):\n",
    "    \"\"\"\n",
    "    Test evaluation for  \"nodeOne\": \"2\",\"nodeThree\": \"8\",\"nodeTwo\": \"5\"\n",
    "    \"\"\"\n",
    "    bst = BST()\n",
    "    for value in data[3]:\n",
    "      bst.add(value)\n",
    "    assert validateThreeNodes(bst,2,5,8) == True\n",
    "\n",
    "def test_5(data):\n",
    "    \"\"\"\n",
    "    Test evaluation for \"nodeOne\": \"4\", \"nodeThree\": \"2\", \"nodeTwo\": \"1\",\n",
    "    \"\"\"\n",
    "    bst = BST()\n",
    "    for value in data[4]:\n",
    "      bst.add(value)\n",
    "    assert validateThreeNodes(bst,4,1,2) == True\n",
    "\n",
    "def test_6(data):\n",
    "    \"\"\"\n",
    "    Test evaluation for \"nodeOne\": \"1\",\"nodeThree\": \"3\",\"nodeTwo\": \"2\",\n",
    "    \"\"\"\n",
    "    bst = BST()\n",
    "    for value in data[5]:\n",
    "      bst.add(value)\n",
    "    assert validateThreeNodes(bst,1,2,3) == False\n",
    "\n",
    "def test_7(data):\n",
    "    \"\"\"\n",
    "    Test evaluation for \"nodeOne\": \"2\",\"nodeThree\": \"13\",\"nodeTwo\": \"4\"\n",
    "    \"\"\"\n",
    "    bst = BST()\n",
    "    for value in data[6]:\n",
    "      bst.add(value)\n",
    "    assert validateThreeNodes(bst,2,4,13) == False\n",
    "\n",
    "def test_8(data):\n",
    "    \"\"\"\n",
    "    Test evaluation for \"nodeOne\": \"8\",\"nodeThree\": \"1\",\"nodeTwo\": \"7\"\n",
    "    \"\"\"\n",
    "    bst = BST()\n",
    "    for value in data[7]:\n",
    "      bst.add(value)\n",
    "    assert validateThreeNodes(bst,8,7,1) == True\n",
    "\n",
    "def test_9(data):\n",
    "    \"\"\"\n",
    "    Test evaluation for \"nodeOne\": \"2\",\"nodeThree\": \"3\",\"nodeTwo\": \"1\"\n",
    "    \"\"\"\n",
    "    bst = BST()\n",
    "    for value in data[8]:\n",
    "      bst.add(value)\n",
    "    assert validateThreeNodes(bst,2,1,3) == False\n",
    "\n",
    "def test_10(data):\n",
    "    \"\"\"\n",
    "    Test evaluation for \"nodeOne\": \"1\", \"nodeThree\": \"3\", \"nodeTwo\": \"2\"\n",
    "    \"\"\"\n",
    "    bst = BST()\n",
    "    for value in data[9]:\n",
    "      bst.add(value)\n",
    "    assert validateThreeNodes(bst,1,2,3) == True\n",
    "\n",
    "def test_11(data):\n",
    "    \"\"\"\n",
    "    Test evaluation for \"nodeOne\": \"9\",\"nodeThree\": \"6\",\"nodeTwo\": \"8\"\n",
    "    \"\"\"\n",
    "    bst = BST()\n",
    "    for value in data[10]:\n",
    "      bst.add(value)\n",
    "    assert validateThreeNodes(bst,9,8,6) == True\n",
    "\n",
    "def test_12(data):\n",
    "    \"\"\"\n",
    "    Test evaluation for \"nodeOne\": \"12\",\"nodeThree\": \"15\",\"nodeTwo\": \"13\"\n",
    "    \"\"\"\n",
    "    bst = BST()\n",
    "    for value in data[11]:\n",
    "      bst.add(value)\n",
    "    assert validateThreeNodes(bst,12,13,15) == True\n",
    "\n",
    "def test_13(data):\n",
    "    \"\"\"\n",
    "    Test evaluation for \"nodeOne\": \"5\",\"nodeThree\": \"15\",\"nodeTwo\": \"10\"\n",
    "    \"\"\"\n",
    "    bst = BST()\n",
    "    for value in data[12]:\n",
    "      bst.add(value)\n",
    "    assert validateThreeNodes(bst,5,10,15) == False\n",
    "\n",
    "def test_14(data):\n",
    "    \"\"\"\n",
    "    Test evaluation for \"nodeOne\": \"5\",\"nodeThree\": \"4\",\"nodeTwo\": \"3\"\n",
    "    \"\"\"\n",
    "    bst = BST()\n",
    "    for value in data[13]:\n",
    "      bst.add(value)\n",
    "    assert validateThreeNodes(bst,5,3,4) == True\n",
    "\n",
    "def test_15(data):\n",
    "    \"\"\"\n",
    "    Test evaluation for \"nodeOne\": \"5\",\"nodeThree\": \"1\",\"nodeTwo\": \"3\"\n",
    "    \"\"\"\n",
    "    bst = BST()\n",
    "    for value in data[14]:\n",
    "      bst.add(value)\n",
    "    assert validateThreeNodes(bst,5,3,1) == True"
   ]
  },
  {
   "cell_type": "code",
   "execution_count": 5,
   "metadata": {},
   "outputs": [
    {
     "name": "stdout",
     "output_type": "stream",
     "text": [
      "\u001b[1m============================= test session starts =============================\u001b[0m\n",
      "platform win32 -- Python 3.10.9, pytest-7.1.2, pluggy-1.0.0 -- C:\\Users\\rycha\\anaconda3\\python.exe\n",
      "cachedir: .pytest_cache\n",
      "rootdir: c:\\Users\\rycha\\OneDrive\\Área de Trabalho\\Disciplinas faculdade\\Algorithms-and-Data-Structure-II\\week 6\n",
      "plugins: anyio-3.5.0, sugar-0.9.7\n",
      "\u001b[1mcollecting ... \u001b[0mcollected 15 items\n",
      "\n",
      "validatethreenodes.py::test_1 \u001b[32mPASSED\u001b[0m\u001b[32m                                     [  6%]\u001b[0m\n",
      "validatethreenodes.py::test_2 \u001b[32mPASSED\u001b[0m\u001b[32m                                     [ 13%]\u001b[0m\n",
      "validatethreenodes.py::test_3 \u001b[31mFAILED\u001b[0m\u001b[31m                                     [ 20%]\u001b[0m\n",
      "validatethreenodes.py::test_4 \u001b[32mPASSED\u001b[0m\u001b[31m                                     [ 26%]\u001b[0m\n",
      "validatethreenodes.py::test_5 \u001b[32mPASSED\u001b[0m\u001b[31m                                     [ 33%]\u001b[0m\n",
      "validatethreenodes.py::test_6 \u001b[31mFAILED\u001b[0m\u001b[31m                                     [ 40%]\u001b[0m\n",
      "validatethreenodes.py::test_7 \u001b[31mFAILED\u001b[0m\u001b[31m                                     [ 46%]\u001b[0m\n",
      "validatethreenodes.py::test_8 \u001b[32mPASSED\u001b[0m\u001b[31m                                     [ 53%]\u001b[0m\n",
      "validatethreenodes.py::test_9 \u001b[32mPASSED\u001b[0m\u001b[31m                                     [ 60%]\u001b[0m\n",
      "validatethreenodes.py::test_10 \u001b[32mPASSED\u001b[0m\u001b[31m                                    [ 66%]\u001b[0m\n",
      "validatethreenodes.py::test_11 \u001b[32mPASSED\u001b[0m\u001b[31m                                    [ 73%]\u001b[0m\n",
      "validatethreenodes.py::test_12 \u001b[32mPASSED\u001b[0m\u001b[31m                                    [ 80%]\u001b[0m\n",
      "validatethreenodes.py::test_13 \u001b[31mFAILED\u001b[0m\u001b[31m                                    [ 86%]\u001b[0m\n",
      "validatethreenodes.py::test_14 \u001b[32mPASSED\u001b[0m\u001b[31m                                    [ 93%]\u001b[0m\n",
      "validatethreenodes.py::test_15 \u001b[32mPASSED\u001b[0m\u001b[31m                                    [100%]\u001b[0m\n",
      "\n",
      "================================== FAILURES ===================================\n",
      "\u001b[31m\u001b[1m___________________________________ test_3 ____________________________________\u001b[0m\n",
      "\n",
      "data = [[5, 2, 1, 0, 4, 3, ...], [5, 3, 2, 1, 0, 4, ...], [5, 3, 2, 1, 0, 4, ...], [2, 1, 3, 4, 5, 6, ...], [6, 4, 3, 1, 2, 8, ...], [2, 1, 3, 4], ...]\n",
      "\n",
      "    \u001b[94mdef\u001b[39;49;00m \u001b[92mtest_3\u001b[39;49;00m(data):\n",
      "        \u001b[33m\"\"\"\u001b[39;49;00m\n",
      "    \u001b[33m    Test evaluation for   \"nodeOne\": \"8\",\"nodeThree\": \"2\",\"nodeTwo\": \"5\",\u001b[39;49;00m\n",
      "    \u001b[33m    \"\"\"\u001b[39;49;00m\n",
      "        bst = BST()\n",
      "        \u001b[94mfor\u001b[39;49;00m value \u001b[95min\u001b[39;49;00m data[\u001b[94m2\u001b[39;49;00m]:\n",
      "          bst.add(value)\n",
      ">       \u001b[94massert\u001b[39;49;00m validateThreeNodes(bst,\u001b[94m8\u001b[39;49;00m,\u001b[94m5\u001b[39;49;00m,\u001b[94m2\u001b[39;49;00m) == \u001b[94mFalse\u001b[39;49;00m\n",
      "\u001b[1m\u001b[31mE       assert True == False\u001b[0m\n",
      "\u001b[1m\u001b[31mE        +  where True = validateThreeNodes(<binarysearchtree.BST object at 0x000002C1866149D0>, 8, 5, 2)\u001b[0m\n",
      "\n",
      "\u001b[1m\u001b[31mvalidatethreenodes.py\u001b[0m:140: AssertionError\n",
      "\u001b[31m\u001b[1m___________________________________ test_6 ____________________________________\u001b[0m\n",
      "\n",
      "data = [[5, 2, 1, 0, 4, 3, ...], [5, 3, 2, 1, 0, 4, ...], [5, 3, 2, 1, 0, 4, ...], [2, 1, 3, 4, 5, 6, ...], [6, 4, 3, 1, 2, 8, ...], [2, 1, 3, 4], ...]\n",
      "\n",
      "    \u001b[94mdef\u001b[39;49;00m \u001b[92mtest_6\u001b[39;49;00m(data):\n",
      "        \u001b[33m\"\"\"\u001b[39;49;00m\n",
      "    \u001b[33m    Test evaluation for \"nodeOne\": \"1\",\"nodeThree\": \"3\",\"nodeTwo\": \"2\",\u001b[39;49;00m\n",
      "    \u001b[33m    \"\"\"\u001b[39;49;00m\n",
      "        bst = BST()\n",
      "        \u001b[94mfor\u001b[39;49;00m value \u001b[95min\u001b[39;49;00m data[\u001b[94m5\u001b[39;49;00m]:\n",
      "          bst.add(value)\n",
      ">       \u001b[94massert\u001b[39;49;00m validateThreeNodes(bst,\u001b[94m1\u001b[39;49;00m,\u001b[94m2\u001b[39;49;00m,\u001b[94m3\u001b[39;49;00m) == \u001b[94mFalse\u001b[39;49;00m\n",
      "\u001b[1m\u001b[31mE       assert True == False\u001b[0m\n",
      "\u001b[1m\u001b[31mE        +  where True = validateThreeNodes(<binarysearchtree.BST object at 0x000002C18666AE60>, 1, 2, 3)\u001b[0m\n",
      "\n",
      "\u001b[1m\u001b[31mvalidatethreenodes.py\u001b[0m:167: AssertionError\n",
      "\u001b[31m\u001b[1m___________________________________ test_7 ____________________________________\u001b[0m\n",
      "\n",
      "data = [[5, 2, 1, 0, 4, 3, ...], [5, 3, 2, 1, 0, 4, ...], [5, 3, 2, 1, 0, 4, ...], [2, 1, 3, 4, 5, 6, ...], [6, 4, 3, 1, 2, 8, ...], [2, 1, 3, 4], ...]\n",
      "\n",
      "    \u001b[94mdef\u001b[39;49;00m \u001b[92mtest_7\u001b[39;49;00m(data):\n",
      "        \u001b[33m\"\"\"\u001b[39;49;00m\n",
      "    \u001b[33m    Test evaluation for \"nodeOne\": \"2\",\"nodeThree\": \"13\",\"nodeTwo\": \"4\"\u001b[39;49;00m\n",
      "    \u001b[33m    \"\"\"\u001b[39;49;00m\n",
      "        bst = BST()\n",
      "        \u001b[94mfor\u001b[39;49;00m value \u001b[95min\u001b[39;49;00m data[\u001b[94m6\u001b[39;49;00m]:\n",
      "          bst.add(value)\n",
      ">       \u001b[94massert\u001b[39;49;00m validateThreeNodes(bst,\u001b[94m2\u001b[39;49;00m,\u001b[94m4\u001b[39;49;00m,\u001b[94m13\u001b[39;49;00m) == \u001b[94mFalse\u001b[39;49;00m\n",
      "\u001b[1m\u001b[31mE       assert True == False\u001b[0m\n",
      "\u001b[1m\u001b[31mE        +  where True = validateThreeNodes(<binarysearchtree.BST object at 0x000002C186615000>, 2, 4, 13)\u001b[0m\n",
      "\n",
      "\u001b[1m\u001b[31mvalidatethreenodes.py\u001b[0m:176: AssertionError\n",
      "\u001b[31m\u001b[1m___________________________________ test_13 ___________________________________\u001b[0m\n",
      "\n",
      "data = [[5, 2, 1, 0, 4, 3, ...], [5, 3, 2, 1, 0, 4, ...], [5, 3, 2, 1, 0, 4, ...], [2, 1, 3, 4, 5, 6, ...], [6, 4, 3, 1, 2, 8, ...], [2, 1, 3, 4], ...]\n",
      "\n",
      "    \u001b[94mdef\u001b[39;49;00m \u001b[92mtest_13\u001b[39;49;00m(data):\n",
      "        \u001b[33m\"\"\"\u001b[39;49;00m\n",
      "    \u001b[33m    Test evaluation for \"nodeOne\": \"5\",\"nodeThree\": \"15\",\"nodeTwo\": \"10\"\u001b[39;49;00m\n",
      "    \u001b[33m    \"\"\"\u001b[39;49;00m\n",
      "        bst = BST()\n",
      "        \u001b[94mfor\u001b[39;49;00m value \u001b[95min\u001b[39;49;00m data[\u001b[94m12\u001b[39;49;00m]:\n",
      "          bst.add(value)\n",
      ">       \u001b[94massert\u001b[39;49;00m validateThreeNodes(bst,\u001b[94m5\u001b[39;49;00m,\u001b[94m10\u001b[39;49;00m,\u001b[94m15\u001b[39;49;00m) == \u001b[94mFalse\u001b[39;49;00m\n",
      "\u001b[1m\u001b[31mE       assert True == False\u001b[0m\n",
      "\u001b[1m\u001b[31mE        +  where True = validateThreeNodes(<binarysearchtree.BST object at 0x000002C186668B80>, 5, 10, 15)\u001b[0m\n",
      "\n",
      "\u001b[1m\u001b[31mvalidatethreenodes.py\u001b[0m:230: AssertionError\n",
      "=========================== short test summary info ===========================\n",
      "FAILED validatethreenodes.py::test_3 - assert True == False\n",
      "FAILED validatethreenodes.py::test_6 - assert True == False\n",
      "FAILED validatethreenodes.py::test_7 - assert True == False\n",
      "FAILED validatethreenodes.py::test_13 - assert True == False\n",
      "\u001b[31m======================== \u001b[31m\u001b[1m4 failed\u001b[0m, \u001b[32m11 passed\u001b[0m\u001b[31m in 0.57s\u001b[0m\u001b[31m =========================\u001b[0m\n"
     ]
    }
   ],
   "source": [
    "!pytest validatethreenodes.py -vv"
   ]
  }
 ],
 "metadata": {
  "kernelspec": {
   "display_name": "base",
   "language": "python",
   "name": "python3"
  },
  "language_info": {
   "codemirror_mode": {
    "name": "ipython",
    "version": 3
   },
   "file_extension": ".py",
   "mimetype": "text/x-python",
   "name": "python",
   "nbconvert_exporter": "python",
   "pygments_lexer": "ipython3",
   "version": "3.10.9"
  },
  "orig_nbformat": 4
 },
 "nbformat": 4,
 "nbformat_minor": 2
}
